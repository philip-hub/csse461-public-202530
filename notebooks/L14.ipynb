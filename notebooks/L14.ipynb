{
 "cells": [
  {
   "cell_type": "markdown",
   "id": "df6ecb8e-6956-40d1-9eb9-abd2ef2b1514",
   "metadata": {},
   "source": [
    "# Lecture 14: GPU Computing lab"
   ]
  },
  {
   "cell_type": "markdown",
   "id": "c53cfb1b-5892-4460-8ead-837257e151b1",
   "metadata": {},
   "source": [
    "Schedule:\n",
    "\n",
    "1. Introduce project 3 (depth from single image)\n",
    "2. Hands-on: get started with GPU computing\n",
    "   - ssh to departmental server\n",
    "   - setup / learn about `venvs` in Python\n",
    "   - connect to JupyterHub, load your venv\n",
    "   - citizenship: using `nvidia-smi` and `nvtop`. Choosing which GPU to run on.\n",
    "4. [PyTorch tutorial](https://pytorch.org/tutorials/beginner/basics/intro.html)\n",
    "   - we'll all work our way through the \"Introduction to PyTorch\" tutorial, all sections\n",
    "   - follow along in code! Train the model yourself!\n",
    "   - consider this a mini partner lab\n",
    "5. Final project work time\n",
    "   - for most projects, there are two big technical lifts:\n",
    "       - getting the code running\n",
    "       - tweaking the code to run on your own data\n",
    "   - the first task can go wrong in countless ways\n",
    "   - we're setting aside class time today to work on this to try to force everything to go wrong right away, so there's time to fix it."
   ]
  },
  {
   "cell_type": "code",
   "execution_count": null,
   "id": "55a8deaa-0998-490b-835c-17c7c4fba785",
   "metadata": {},
   "outputs": [],
   "source": []
  }
 ],
 "metadata": {
  "kernelspec": {
   "display_name": "Python 3 (ipykernel)",
   "language": "python",
   "name": "python3"
  },
  "language_info": {
   "codemirror_mode": {
    "name": "ipython",
    "version": 3
   },
   "file_extension": ".py",
   "mimetype": "text/x-python",
   "name": "python",
   "nbconvert_exporter": "python",
   "pygments_lexer": "ipython3",
   "version": "3.11.11"
  }
 },
 "nbformat": 4,
 "nbformat_minor": 5
}
