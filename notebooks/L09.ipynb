{
 "cells": [
  {
   "cell_type": "markdown",
   "id": "c3109b7e-0092-47a3-aca2-288e745731ba",
   "metadata": {
    "editable": true,
    "slideshow": {
     "slide_type": ""
    },
    "tags": []
   },
   "source": [
    "## Lecture 9"
   ]
  },
  {
   "cell_type": "markdown",
   "id": "c0357b50-2962-423e-85f1-80217ec3d134",
   "metadata": {},
   "source": [
    "#### Announcements\n",
    "\n",
    "* Midterm exam coming up a week from today!\n",
    "    * Covers material through today\n",
    "    * You can bring one double-sided 8.5x11\" sheet of hand-written notes.\n",
    "* P2 is out! All necessary material will be wrapped up this week.\n"
   ]
  },
  {
   "cell_type": "markdown",
   "id": "38efd636-c09e-4d1f-a828-33e0fcc75686",
   "metadata": {
    "editable": true,
    "slideshow": {
     "slide_type": ""
    },
    "tags": []
   },
   "source": [
    "#### Goals\n",
    "* Know how to find a least-squares best-fit transformation for:\n",
    "  * homography (with caveats)\n",
    "* Understand the Random Sample Consensus (RANSAC) algorithm\n",
    "* Know how to resample images using forward and inverse\n",
    "  warping (and why the latter is usually preferred)\n",
    "* Understand how to perform bilinear interpolation"
   ]
  },
  {
   "cell_type": "code",
   "execution_count": 2,
   "id": "4a295613-e6e3-4f35-b603-27b158385acc",
   "metadata": {},
   "outputs": [],
   "source": [
    "# boilerplate setup\n",
    "%load_ext autoreload\n",
    "%autoreload 2\n",
    "\n",
    "%matplotlib inline\n",
    "\n",
    "import os\n",
    "import sys\n",
    "\n",
    "src_path = os.path.abspath(\"../src\")\n",
    "if (src_path not in sys.path):\n",
    "    sys.path.insert(0, src_path)\n",
    "\n",
    "# Library imports\n",
    "import numpy as np\n",
    "import imageio.v3 as imageio\n",
    "import matplotlib.pyplot as plt\n",
    "import skimage as skim\n",
    "import cv2\n",
    "\n",
    "# codebase imports\n",
    "import util\n",
    "import filtering\n",
    "import features\n",
    "import geometry"
   ]
  },
  {
   "cell_type": "markdown",
   "id": "c6ed4ad7-132d-4906-8a67-fae476b90b39",
   "metadata": {},
   "source": [
    "#### Plan\n",
    "\n",
    "* Outlier robustness: RANSAC\n",
    "* Warping: forward and inverse\n",
    "* Bilinear interpolation"
   ]
  },
  {
   "cell_type": "markdown",
   "id": "4d795b83-42fc-467b-a5a1-c9125c68740b",
   "metadata": {},
   "source": [
    "### Context: Panorama Stitching Overview\n",
    "\n",
    "* [x] Detect features - Harris corners\n",
    "* [x] Describe features - MOPS descriptor\n",
    "* [x] Match features - SSD + ratio test\n",
    "* Estimate motion model from correspondences\n",
    "    * [x] Translation\n",
    "    * [x] Affine\n",
    "    * [x] Projective\n",
    "    * [ ] **Robustness to outliers - RANSAC**\n",
    "* Warp image(s) into common coordinate system and blend\n",
    "    * [ ] **Inverse warping**\n",
    "    * [ ] Blending\n",
    "    * [ ] 360 panoramas?"
   ]
  },
  {
   "cell_type": "markdown",
   "id": "f511d1bf-422f-4ccd-acb1-120f9a67baf9",
   "metadata": {},
   "source": [
    "Recall our definition of the optimal transformation for a given set of correspondences is the one that **minimizes** the sum of squared residuals:\n",
    "$$\n",
    "\\min_T \\sum_i||(T\\mathbf{p}_i - \\mathbf{p}_i')||^2\n",
    "$$\n"
   ]
  },
  {
   "cell_type": "markdown",
   "id": "d5fad59d-ddd8-4ce8-a9fc-34bf6262d9d2",
   "metadata": {},
   "source": [
    "##### Homework Problem 1\n",
    "\n",
    "Write down the $x$ and $y$ residuals for a pair of corresponding points $(x, y)$ in image 1 and $(x', y')$ in image 2 under a homography (projective) motion model. Assume the homography matrix is parameterized as\n",
    "$$\n",
    "\\begin{bmatrix}\n",
    "  a & b & c\\\\\n",
    "  d & e & f\\\\\n",
    "  g & h & 1\n",
    "\\end{bmatrix}\n",
    "$$"
   ]
  },
  {
   "cell_type": "markdown",
   "id": "5b9b159a-0158-4332-8906-23bbc6c24284",
   "metadata": {},
   "source": [
    "TL;DM (too long; didn't math):\n",
    "\n",
    "* Decompose $A$ using the SVD:\n",
    "  $$\n",
    "  U_{m \\times m}, \\Sigma_{m\\times n}, V^T_{n \\times n} = \\mathrm{SVD}(A_{m \\times n})\n",
    "  $$\n",
    "* The optimal vector $x^* = $ the row of $V^T$ (column of $V$) corresponding to the smallest element of $\\Sigma$ (which is diagonal)\n",
    "* Usually your linear algebra library will order things so that $\\Sigma$'s elements are in descending order, so in practice $x^* = $ the last row of $V^T$ is the optimal $x*$"
   ]
  },
  {
   "cell_type": "markdown",
   "id": "864ca289-1e19-438d-9441-383952e1f336",
   "metadata": {},
   "source": [
    "### Next up: Robustness to outliers\n",
    "\n",
    "![](../data/outliers.png)"
   ]
  },
  {
   "cell_type": "markdown",
   "id": "d50362e7-4d5f-4445-a604-2ef07f582d4e",
   "metadata": {},
   "source": [
    "### Next steps: set up for some experiments\n",
    "\n",
    "We'll need:\n",
    "- random matches\n",
    "- code that can estimate a transformation\n",
    "- code that can apply a transformation\n",
    "\n",
    "Get this working in the noise-free case. Then we're ready to start the main topic of today."
   ]
  },
  {
   "cell_type": "code",
   "execution_count": 104,
   "id": "e4257e24-467c-4190-8312-3a163690ebef",
   "metadata": {},
   "outputs": [
    {
     "data": {
      "text/plain": [
       "(2, 16)"
      ]
     },
     "execution_count": 104,
     "metadata": {},
     "output_type": "execute_result"
    }
   ],
   "source": [
    "# Demo:\n",
    "img_w = 600\n",
    "img_h = 480\n",
    "T_gt = np.array(\n",
    "    [[1, 0, 70],\n",
    "     [0, 1, -30],\n",
    "     [0, 0, 1]]\n",
    ")\n",
    "\n",
    "# points in left image, row/col pixel coords\n",
    "n_inlier_matches = 16\n",
    "pts_L = np.vstack([\n",
    "    np.random.randint(0.2*img_h, 0.8*img_h, n_inlier_matches),\n",
    "    np.random.randint(0.2*img_w, 0.8*img_w, n_inlier_matches),\n",
    "])\n",
    "pts_L.shape"
   ]
  },
  {
   "cell_type": "code",
   "execution_count": 105,
   "id": "572b09c9-9983-49a7-88f7-999773addfcf",
   "metadata": {},
   "outputs": [
    {
     "name": "stdout",
     "output_type": "stream",
     "text": [
      "(2, 16)\n"
     ]
    }
   ],
   "source": [
    "def apply_T(pts, T):\n",
    "    # pts is a 2-by-n matrix of 2D image coords\n",
    "    # T is a 3-by-3 transformation matrix\n",
    "    n = pts.shape[1]\n",
    "\n",
    "    # add a one to each vector\n",
    "    pts = np.vstack([pts, np.ones(n)])\n",
    "    pts_T = T @ pts # multiply by T\n",
    "\n",
    "    # divide by third row and drop it\n",
    "    pts_T = pts_T[0:2,:] / pts_T[2,:]\n",
    "    return pts_T\n",
    "\n",
    "pts_R = apply_T(pts_L, T_gt)\n",
    "print(pts_R.shape)"
   ]
  },
  {
   "cell_type": "code",
   "execution_count": 134,
   "id": "b516aa70-c422-438f-9c60-5f924fbad14a",
   "metadata": {},
   "outputs": [],
   "source": [
    "def fit_translation_model(pts_L, pts_R):\n",
    "    \"\"\"return a 3x3 matrix T that maps coords in img_L to\n",
    "    their matching coords in img_R\"\"\"\n",
    "    diff = pts_R - pts_L\n",
    "    avg_diff = np.sum(diff, axis=1) / pts_L.shape[1]\n",
    "    T = np.identity(3)\n",
    "    T[0:2,2] = avg_diff\n",
    "    return T"
   ]
  },
  {
   "cell_type": "code",
   "execution_count": 129,
   "id": "14ce6793-84da-4270-be0e-a27b83b486a0",
   "metadata": {},
   "outputs": [
    {
     "data": {
      "text/plain": [
       "array([[0., 0., 0., 0., 0., 0., 0., 0., 0., 0., 0., 0., 0., 0., 0., 0.],\n",
       "       [0., 0., 0., 0., 0., 0., 0., 0., 0., 0., 0., 0., 0., 0., 0., 0.]])"
      ]
     },
     "execution_count": 129,
     "metadata": {},
     "output_type": "execute_result"
    }
   ],
   "source": [
    "# check: does it work?\n",
    "apply_T(pts_L, T_gt) - pts_R"
   ]
  },
  {
   "cell_type": "code",
   "execution_count": 98,
   "id": "1b5d2247-439d-4a6a-ac59-550762d4dc64",
   "metadata": {},
   "outputs": [],
   "source": [
    "from matplotlib.patches import Rectangle, Polygon\n",
    "\n",
    "def visualize_matches(pts_L, pts_R, img_w, img_h,\n",
    "                      match_colors=None,\n",
    "                      img_outer_pad = 60,  # border around images\n",
    "                      img_inner_pad = 100, # space between images\n",
    "                      ax=None\n",
    "                     ):\n",
    "    \n",
    "    # define global to local coords transforms for both images\n",
    "    def L2g(pts_L):\n",
    "        # pts_L coords are (row,col) with (0,0) in upper left\n",
    "        assert len(pts_L.shape) == 2 and pts_L.shape[0] == 2\n",
    "        return np.vstack([\n",
    "            pts_L[1,:] + img_outer_pad,\n",
    "            img_h + img_outer_pad - pts_L[0,:]\n",
    "        ])\n",
    "    def R2g(pts_R):\n",
    "        # pts_R coords are (row,col) with (0,0) in upper left\n",
    "        assert len(pts_R.shape) == 2 and pts_R.shape[0] == 2\n",
    "        return np.vstack([\n",
    "            pts_R[1,:] + img_outer_pad + img_inner_pad + img_w,\n",
    "            img_h + img_outer_pad - pts_R[0,:]\n",
    "        ])\n",
    "\n",
    "    # Axis setup\n",
    "    if ax is None:\n",
    "        fig = plt.figure(figsize=(12,4))\n",
    "        ax = plt.gca()\n",
    "    viz_w = 2*img_outer_pad + img_inner_pad + 2 * img_w\n",
    "    viz_h = 2*img_outer_pad + img_h\n",
    "    ax.axis('off')\n",
    "    ax.add_patch(Rectangle((0, 0), viz_w, viz_h, color='#f2f2f2')) #background grey\n",
    "    ax.set_xlim(0, viz_w)\n",
    "    ax.set_ylim(0, viz_h)\n",
    "    ax.set_aspect('equal')\n",
    "\n",
    "\n",
    "    # plot elements, in local image coords\n",
    "    img_frame = np.array([\n",
    "        [0, 0,       img_h-1, img_h-1],\n",
    "        [0, img_w-1, img_w-1, 0      ]\n",
    "    ])\n",
    "    text_loc = np.array([[img_h + 10],[img_w/2]])\n",
    "\n",
    "    # draw image frames and keypoint points\n",
    "    ax.add_patch(Polygon(L2g(img_frame).T, closed=True, fill=False, edgecolor='k'))\n",
    "    ax.add_patch(Polygon(R2g(img_frame).T, closed=True, fill=False, edgecolor='k'))\n",
    "    ax.text(*L2g(text_loc), \"Left Image\",  ha='center', va='top')\n",
    "    ax.text(*R2g(text_loc), \"Right Image\", ha='center', va='top')\n",
    "    ax.plot(*L2g(pts_L), '.k', markersize=8)\n",
    "    ax.plot(*R2g(pts_R), '.k', markersize=8)\n",
    "    \n",
    "    # add lines between matches\n",
    "    for i in range(n_inlier_matches):\n",
    "        c = 'g' if match_colors is None else match_colors[i]\n",
    "        pL = L2g(pts_L)[:,i]\n",
    "        pR = R2g(pts_R)[:,i]\n",
    "        ax.plot([pL[0], pR[0]], [pL[1], pR[1]], '-', color=c, linewidth=0.5)\n",
    "    \n",
    "    plt.show()"
   ]
  },
  {
   "cell_type": "code",
   "execution_count": 99,
   "id": "3c9643bf-4fc0-406e-b5e3-2e407ecd3675",
   "metadata": {},
   "outputs": [
    {
     "data": {
      "image/png": "[encoded data removed]",
      "text/plain": [
       "<Figure size 1200x400 with 1 Axes>"
      ]
     },
     "metadata": {},
     "output_type": "display_data"
    }
   ],
   "source": [
    "visualize_matches(pts_L, pts_R, img_w, img_h)"
   ]
  },
  {
   "cell_type": "markdown",
   "id": "d08e5415-2a93-461f-8dae-c150d3b2ec47",
   "metadata": {},
   "source": [
    "#### Where are we at?\n",
    "\n",
    "- We can create a noise-free matching problem.\n",
    "- we can solve it\n",
    "- Pretty picture convince us that this works\n",
    "\n",
    "#### Next task: again, but make some noise!\n",
    "- create noisy matches\n",
    "- fit a transform\n",
    "- measure how well it worked\n",
    "- visualize?"
   ]
  },
  {
   "cell_type": "code",
   "execution_count": 135,
   "id": "37caab40-f6f7-4042-b7af-813fe92fda8d",
   "metadata": {},
   "outputs": [],
   "source": [
    "def visualize_model(pts_L, pts_R, model, img_w, img_h,\n",
    "          match_colors=None,\n",
    "          img_outer_pad = 60,  # border around images\n",
    "          ax=None\n",
    "         ):\n",
    "    \n",
    "    # define global to local coords transforms for both images\n",
    "    def I2g(pts):\n",
    "        # pts_L coords are (row,col) with (0,0) in upper left\n",
    "        assert len(pts.shape) == 2 and pts.shape[0] == 2\n",
    "        return np.vstack([\n",
    "            pts[1,:] + img_outer_pad,\n",
    "            img_h + img_outer_pad - pts[0,:]\n",
    "        ])\n",
    "\n",
    "    # Axis setup\n",
    "    if ax is None:\n",
    "        fig = plt.figure(figsize=(12,4))\n",
    "        ax = plt.gca()\n",
    "    viz_w = 2*img_outer_pad + img_w\n",
    "    viz_h = 2*img_outer_pad + img_h\n",
    "    ax.axis('off')\n",
    "    ax.add_patch(Rectangle((0, 0), viz_w, viz_h, color='#f2f2f2')) #background grey\n",
    "    ax.set_xlim(0, viz_w)\n",
    "    ax.set_ylim(0, viz_h)\n",
    "    ax.set_aspect('equal')\n",
    "\n",
    "\n",
    "    # plot elements, in local image coords\n",
    "    img_frame = np.array([\n",
    "        [0, 0,       img_h-1, img_h-1],\n",
    "        [0, img_w-1, img_w-1, 0      ]\n",
    "    ])\n",
    "    text_loc = np.array([[img_h + 10],[img_w/2]])\n",
    "\n",
    "    # map left points into right image via model. Put into viz coords (g)\n",
    "    pts_R_g       = I2g(pts_R)\n",
    "    pts_R_model_g = I2g(apply_T(pts_L, model))\n",
    "\n",
    "    # draw image frames and keypoint points\n",
    "    ax.add_patch(Polygon(I2g(img_frame).T, closed=True, fill=False, edgecolor='k'))\n",
    "    ax.text(*I2g(text_loc), \"Right Image\", ha='center', va='top')\n",
    "    ax.plot(*pts_R_g, '.k', markersize=8)\n",
    "    ax.plot(*pts_R_model_g, '.', color='purple', markersize=8)\n",
    "\n",
    "    \n",
    "    # add lines between matches\n",
    "    for i in range(n_inlier_matches):\n",
    "        c = 'purple' if match_colors is None else match_colors[i]\n",
    "        pt_pred = pts_R_model_g[:,i]\n",
    "        pt_real = pts_R_g[:,i]\n",
    "        ax.plot([pts_R_model_g[0], pts_R_g[0]], \n",
    "                [pts_R_model_g[1], pts_R_g[1]], \n",
    "                '-', color=c, linewidth=0.5)\n",
    "    \n",
    "    plt.show()"
   ]
  },
  {
   "cell_type": "code",
   "execution_count": 136,
   "id": "872ff904-afc8-4512-bd3a-fd41b8e2c1fa",
   "metadata": {
    "scrolled": true
   },
   "outputs": [
    {
     "name": "stdout",
     "output_type": "stream",
     "text": [
      "[[  1.   0.  70.]\n",
      " [  0.   1. -30.]\n",
      " [  0.   0.   1.]]\n"
     ]
    },
    {
     "data": {
      "image/png": "[encoded data removed]",
      "text/plain": [
       "<Figure size 1200x400 with 1 Axes>"
      ]
     },
     "metadata": {},
     "output_type": "display_data"
    }
   ],
   "source": [
    "model = fit_translation_model(pts_L, pts_R)\n",
    "print(model)\n",
    "visualize_model(pts_L, pts_R, model, img_w, img_h)"
   ]
  },
  {
   "cell_type": "code",
   "execution_count": null,
   "id": "4f608cf3-32af-41f2-8814-51c172d1676b",
   "metadata": {},
   "outputs": [],
   "source": [
    "\"\"\"\n",
    "Plan: take the experiment above, fold it into a function.\n",
    "Add a feature: noisy matches\n",
    "\"\"\"\n",
    "def make_noisy_match_data(num_matches, T_gt, img_w, img_h):\n",
    "    # TODO: write this\n",
    "    return pts_L, pts_R"
   ]
  },
  {
   "cell_type": "code",
   "execution_count": null,
   "id": "05006f51-81d9-4e81-af92-9992f3110ee5",
   "metadata": {},
   "outputs": [],
   "source": [
    "def score_a_model(pts_L, pts_R, model):\n",
    "    # TODO: write this\n",
    "    return -1"
   ]
  },
  {
   "cell_type": "code",
   "execution_count": null,
   "id": "6e3eb54a-0d6c-429b-a77e-e8bfbb030790",
   "metadata": {},
   "outputs": [],
   "source": [
    "img_w = 600\n",
    "img_h = 480\n",
    "num_matches = 16\n",
    "T_gt = np.array(\n",
    "    [[1, 0, 70],\n",
    "     [0, 1, -30],\n",
    "     [0, 0, 1]]\n",
    ")\n",
    "\n",
    "pts_L, pts_R = make_noisy_match_data(num_matches, T_gt, img_w, img_h)\n",
    "visualize_matches(pts_L, pts_R, img_w, img_h)\n",
    "\n",
    "model = fit_translation_model(pts_L, pts_R)\n",
    "print('model:', model)\n",
    "print('score:', score_a_model(pts_L, pts_R, model)\n",
    "visualize_model(pts_L, pts_R, model, img_w, img_h)\n"
   ]
  },
  {
   "cell_type": "markdown",
   "id": "991f0bde-34f6-4774-a3aa-4a2eedc0ac09",
   "metadata": {},
   "source": [
    "#### RANSAC: RAndom SAmple Consensus\n",
    "\n",
    "Finding a transformation is a model fitting problem. A simple model fitting problem that we'll use as analogy is **line fitting** (in fact, this is what linear least squares is doing for us, it's just fitting higher-dimensional lines).\n",
    "\n",
    "**Problem statement**, for now: Given a set of points with some outliers, find the line that fits the non-outliers best.\n",
    "\n",
    "**Key Idea:** \n",
    "\n",
    "> “All good matches are alike; every bad match is bad in its own way.”\n",
    "> \n",
    "> -Tolstoy, as misquoted by Alyosha Efros"
   ]
  },
  {
   "cell_type": "markdown",
   "id": "f3137007-510a-4c82-a23a-cc65d1afecc0",
   "metadata": {},
   "source": [
    "**Observation**: If I have a candidate model, I can tell how good it is by measuring how many points \"agree\" on that model."
   ]
  },
  {
   "cell_type": "markdown",
   "id": "05ee953c-b592-46f9-b564-6eef374b5152",
   "metadata": {},
   "source": [
    "Algorithm, take 1:\n",
    "```\n",
    "for every possible line:\n",
    "   count how many points are inliers to that line\n",
    "return the line with the most inliers\n",
    "```\n",
    "Runtime: O($\\infty$)\n"
   ]
  },
  {
   "cell_type": "markdown",
   "id": "47642649-cf61-47b4-888a-b9e48b31520b",
   "metadata": {},
   "source": [
    "Algorithm, take 2:\n",
    "```\n",
    "for every line that goes through two of the given points:\n",
    "   count how many points are inliers to that line\n",
    "return the line with the most inliers\n",
    "```\n",
    "Runtime: O(n^3)"
   ]
  },
  {
   "cell_type": "markdown",
   "id": "7a6f32f6-d64d-4d86-b61e-4cea04a73646",
   "metadata": {},
   "source": [
    "Algorithm, take 3: RANSAC - see whiteboard notes"
   ]
  },
  {
   "cell_type": "markdown",
   "id": "40b1aa7e-86cf-4a1b-a359-82261cc270e8",
   "metadata": {},
   "source": [
    "##### Homework Problems 2-4\n",
    "\n",
    "2. In the inner loop of RANSAC, how many points are used to fit a candidate model if you are fitting a line to a set of 2D points?\n",
    "3. In the inner loop of RANSAC, how many pairs of corresponding points are used to fit a candidate model if you are fitting a translation to a set of correspondences?\n",
    "4. In the inner loop of RANSAC, how many pairs of corresponding points are used to fit a candidate model if you are fitting a homography to a set of correspondences?"
   ]
  },
  {
   "cell_type": "markdown",
   "id": "ae07d56a-2f0b-413c-be6c-e657abb230e1",
   "metadata": {},
   "source": [
    "##### Homework Problem 5 (preview)\n",
    "\n",
    "In this problem, we'll analyze the RANSAC algorithm to help us understand how to decide how many iterations to run ($K$). Suppose we are fitting some model that requires a minimal set of $s$ points to fully determine (e.g., $s=4$ matches for a homography, $s=2$ points for a line). We also know (or have assumed) that the data has an *inlier ratio* of $r = \\frac{\\text{\\# inliers}}{\\text{\\# data points}}$; in other words, the probability that a randomly sampled point from the dataset as a probability of $r$ of being an inlier."
   ]
  }
 ],
 "metadata": {
  "kernelspec": {
   "display_name": "Python 3 (ipykernel)",
   "language": "python",
   "name": "python3"
  },
  "language_info": {
   "codemirror_mode": {
    "name": "ipython",
    "version": 3
   },
   "file_extension": ".py",
   "mimetype": "text/x-python",
   "name": "python",
   "nbconvert_exporter": "python",
   "pygments_lexer": "ipython3",
   "version": "3.11.11"
  }
 },
 "nbformat": 4,
 "nbformat_minor": 5
}
